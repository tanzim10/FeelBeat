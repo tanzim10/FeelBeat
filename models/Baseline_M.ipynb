{
  "nbformat": 4,
  "nbformat_minor": 0,
  "metadata": {
    "colab": {
      "provenance": [],
      "gpuType": "T4"
    },
    "kernelspec": {
      "name": "python3",
      "display_name": "Python 3"
    },
    "language_info": {
      "name": "python"
    },
    "accelerator": "GPU"
  },
  "cells": [
    {
      "cell_type": "markdown",
      "source": [
        "\n",
        "###Baseline Model\n"
      ],
      "metadata": {
        "id": "myNyv9E8du54"
      }
    },
    {
      "cell_type": "code",
      "execution_count": null,
      "metadata": {
        "colab": {
          "base_uri": "https://localhost:8080/"
        },
        "id": "dchwkxZjWXWm",
        "outputId": "8d588bfa-13e9-42a2-8ee0-311b4dec9120"
      },
      "outputs": [
        {
          "output_type": "stream",
          "name": "stdout",
          "text": [
            "Colab only includes TensorFlow 2.x; %tensorflow_version has no effect.\n"
          ]
        }
      ],
      "source": [
        "%tensorflow_version 2.12\n"
      ]
    },
    {
      "cell_type": "code",
      "source": [
        "\n",
        "import pandas as pd\n",
        "import numpy as np\n",
        "import matplotlib.pyplot as plt\n",
        "\n",
        "\n",
        "import tensorflow as tf\n",
        "from tensorflow.python.lib.io import file_io\n",
        "\n",
        "import keras\n",
        "from keras.preprocessing.image import ImageDataGenerator\n",
        "\n",
        "from keras.models import Sequential\n",
        "from keras.layers import Dense, Dropout, Flatten\n",
        "from keras.layers import Conv2D, MaxPooling2D, BatchNormalization\n",
        "from keras.optimizers import SGD\n",
        "from keras.callbacks import ReduceLROnPlateau\n",
        "from keras.callbacks import ModelCheckpoint, EarlyStopping\n",
        "\n",
        "from sklearn.metrics import confusion_matrix\n",
        "from seaborn import heatmap\n"
      ],
      "metadata": {
        "id": "r4zuS8-DWyUB"
      },
      "execution_count": null,
      "outputs": []
    },
    {
      "cell_type": "code",
      "source": [
        "from google.colab import drive\n",
        "drive.mount('/content/drive')"
      ],
      "metadata": {
        "colab": {
          "base_uri": "https://localhost:8080/"
        },
        "id": "nYPFg7YWdtjq",
        "outputId": "79650be3-a6ad-468a-e8ae-4e9808846a5c"
      },
      "execution_count": null,
      "outputs": [
        {
          "output_type": "stream",
          "name": "stdout",
          "text": [
            "Mounted at /content/drive\n"
          ]
        }
      ]
    },
    {
      "cell_type": "code",
      "source": [
        "EPOCH = 150\n",
        "BS = 128\n",
        "DROPOUT_RATE = 0.3\n",
        "SGD_LEARNING_RATE = 0.01\n",
        "SGD_DECAY = 0.0001\n"
      ],
      "metadata": {
        "id": "opY3rKKtjnk0"
      },
      "execution_count": null,
      "outputs": []
    },
    {
      "cell_type": "code",
      "source": [
        "\n",
        "\n",
        "from tensorflow.keras.callbacks import ReduceLROnPlateau\n",
        "from tensorflow.keras.optimizers.schedules import ExponentialDecay\n",
        "from keras.optimizers import SGD\n",
        "\n",
        "\n",
        "model = Sequential()\n",
        "model.add(BatchNormalization(input_shape=(48,48,1)))\n",
        "model.add(Conv2D(32,(3,3),activation ='relu', padding ='same', input_shape=(48,48,1),name ='conv1'))\n",
        "model.add(BatchNormalization())\n",
        "#model.add(MaxPooling2D(pool_size =(2,2), name ='maxpool1'))\n",
        "model.add(Dropout(0.2))\n",
        "model.add(Conv2D(32,(3,3),activation ='relu', padding ='same', input_shape=(48,48,1),name ='conv2'))\n",
        "model.add(BatchNormalization())\n",
        "model.add(MaxPooling2D(pool_size =(2,2), name ='maxpool2'))\n",
        "model.add(Dropout(0.2))\n",
        "model.add(Conv2D(64,(3,3),activation ='relu', padding ='same', input_shape=(48,48,1),name ='conv3'))\n",
        "model.add(BatchNormalization())\n",
        "model.add(MaxPooling2D(pool_size =(2,2), name ='maxpool3'))\n",
        "model.add(Dropout(0.2))\n",
        "model.add(Conv2D(64,(3,3),activation ='relu', padding ='same', input_shape=(48,48,1),name ='conv4'))\n",
        "model.add(BatchNormalization())\n",
        "model.add(MaxPooling2D(pool_size =(2,2), name ='maxpool4'))\n",
        "model.add(Dropout(0.2))\n",
        "model.add(Flatten())\n",
        "model.add(Dense(1024, activation ='relu', name ='fc1'))\n",
        "model.add(Dropout(DROPOUT_RATE))\n",
        "model.add(BatchNormalization())\n",
        "model.add(Dense(7, activation = 'softmax', name ='fcsoftmax'))\n",
        "\n",
        "\n",
        "#TODO: weight decay of 0.0001.. initial learning rate is set to 0.01 and reduced by a factor of 2 at every 25 epoch\n",
        "lr_schedule = ExponentialDecay(\n",
        "     initial_learning_rate=SGD_LEARNING_RATE,\n",
        "    decay_steps=100000,\n",
        "   decay_rate=SGD_DECAY\n",
        ")\n",
        "sgd = SGD(learning_rate =lr_schedule, momentum=0.9)\n",
        "model.compile(loss ='categorical_crossentropy', optimizer =sgd, metrics=['accuracy'])\n",
        "\n",
        "#checkpoint\n",
        "cp_filepath = '/content/drive/My Drive/ CSE499A/models/Baseline-weights-best.hdf5'\n",
        "rlrop = ReduceLROnPlateau(monitor ='val_accuracy', mode ='max', factor =0.5, patience =10,min_lr =0.00001, verbose =1)\n",
        "checkpoint = ModelCheckpoint(cp_filepath, monitor = 'val_accuracy',verbose =1, save_best_only=True, mode = 'max')\n",
        "callbacks_list = [rlrop]\n",
        "\n",
        "\n",
        "\n",
        "\n",
        "\n",
        "\n",
        "\n",
        "\n",
        "\n"
      ],
      "metadata": {
        "id": "7sj23jGLlUM8",
        "colab": {
          "base_uri": "https://localhost:8080/"
        },
        "outputId": "d7d5b6d7-1402-48ff-aa7c-a0a10c2455e4"
      },
      "execution_count": null,
      "outputs": [
        {
          "output_type": "stream",
          "name": "stdout",
          "text": [
            "Requirement already satisfied: tensorflow in /usr/local/lib/python3.10/dist-packages (2.13.0)\n",
            "Requirement already satisfied: absl-py>=1.0.0 in /usr/local/lib/python3.10/dist-packages (from tensorflow) (1.4.0)\n",
            "Requirement already satisfied: astunparse>=1.6.0 in /usr/local/lib/python3.10/dist-packages (from tensorflow) (1.6.3)\n",
            "Requirement already satisfied: flatbuffers>=23.1.21 in /usr/local/lib/python3.10/dist-packages (from tensorflow) (23.5.26)\n",
            "Requirement already satisfied: gast<=0.4.0,>=0.2.1 in /usr/local/lib/python3.10/dist-packages (from tensorflow) (0.4.0)\n",
            "Requirement already satisfied: google-pasta>=0.1.1 in /usr/local/lib/python3.10/dist-packages (from tensorflow) (0.2.0)\n",
            "Requirement already satisfied: grpcio<2.0,>=1.24.3 in /usr/local/lib/python3.10/dist-packages (from tensorflow) (1.58.0)\n",
            "Requirement already satisfied: h5py>=2.9.0 in /usr/local/lib/python3.10/dist-packages (from tensorflow) (3.9.0)\n",
            "Requirement already satisfied: keras<2.14,>=2.13.1 in /usr/local/lib/python3.10/dist-packages (from tensorflow) (2.13.1)\n",
            "Requirement already satisfied: libclang>=13.0.0 in /usr/local/lib/python3.10/dist-packages (from tensorflow) (16.0.6)\n",
            "Requirement already satisfied: numpy<=1.24.3,>=1.22 in /usr/local/lib/python3.10/dist-packages (from tensorflow) (1.23.5)\n",
            "Requirement already satisfied: opt-einsum>=2.3.2 in /usr/local/lib/python3.10/dist-packages (from tensorflow) (3.3.0)\n",
            "Requirement already satisfied: packaging in /usr/local/lib/python3.10/dist-packages (from tensorflow) (23.1)\n",
            "Requirement already satisfied: protobuf!=4.21.0,!=4.21.1,!=4.21.2,!=4.21.3,!=4.21.4,!=4.21.5,<5.0.0dev,>=3.20.3 in /usr/local/lib/python3.10/dist-packages (from tensorflow) (3.20.3)\n",
            "Requirement already satisfied: setuptools in /usr/local/lib/python3.10/dist-packages (from tensorflow) (67.7.2)\n",
            "Requirement already satisfied: six>=1.12.0 in /usr/local/lib/python3.10/dist-packages (from tensorflow) (1.16.0)\n",
            "Requirement already satisfied: tensorboard<2.14,>=2.13 in /usr/local/lib/python3.10/dist-packages (from tensorflow) (2.13.0)\n",
            "Requirement already satisfied: tensorflow-estimator<2.14,>=2.13.0 in /usr/local/lib/python3.10/dist-packages (from tensorflow) (2.13.0)\n",
            "Requirement already satisfied: termcolor>=1.1.0 in /usr/local/lib/python3.10/dist-packages (from tensorflow) (2.3.0)\n",
            "Requirement already satisfied: typing-extensions<4.6.0,>=3.6.6 in /usr/local/lib/python3.10/dist-packages (from tensorflow) (4.5.0)\n",
            "Requirement already satisfied: wrapt>=1.11.0 in /usr/local/lib/python3.10/dist-packages (from tensorflow) (1.15.0)\n",
            "Requirement already satisfied: tensorflow-io-gcs-filesystem>=0.23.1 in /usr/local/lib/python3.10/dist-packages (from tensorflow) (0.34.0)\n",
            "Requirement already satisfied: wheel<1.0,>=0.23.0 in /usr/local/lib/python3.10/dist-packages (from astunparse>=1.6.0->tensorflow) (0.41.2)\n",
            "Requirement already satisfied: google-auth<3,>=1.6.3 in /usr/local/lib/python3.10/dist-packages (from tensorboard<2.14,>=2.13->tensorflow) (2.17.3)\n",
            "Requirement already satisfied: google-auth-oauthlib<1.1,>=0.5 in /usr/local/lib/python3.10/dist-packages (from tensorboard<2.14,>=2.13->tensorflow) (1.0.0)\n",
            "Requirement already satisfied: markdown>=2.6.8 in /usr/local/lib/python3.10/dist-packages (from tensorboard<2.14,>=2.13->tensorflow) (3.4.4)\n",
            "Requirement already satisfied: requests<3,>=2.21.0 in /usr/local/lib/python3.10/dist-packages (from tensorboard<2.14,>=2.13->tensorflow) (2.31.0)\n",
            "Requirement already satisfied: tensorboard-data-server<0.8.0,>=0.7.0 in /usr/local/lib/python3.10/dist-packages (from tensorboard<2.14,>=2.13->tensorflow) (0.7.1)\n",
            "Requirement already satisfied: werkzeug>=1.0.1 in /usr/local/lib/python3.10/dist-packages (from tensorboard<2.14,>=2.13->tensorflow) (2.3.7)\n",
            "Requirement already satisfied: cachetools<6.0,>=2.0.0 in /usr/local/lib/python3.10/dist-packages (from google-auth<3,>=1.6.3->tensorboard<2.14,>=2.13->tensorflow) (5.3.1)\n",
            "Requirement already satisfied: pyasn1-modules>=0.2.1 in /usr/local/lib/python3.10/dist-packages (from google-auth<3,>=1.6.3->tensorboard<2.14,>=2.13->tensorflow) (0.3.0)\n",
            "Requirement already satisfied: rsa<5,>=3.1.4 in /usr/local/lib/python3.10/dist-packages (from google-auth<3,>=1.6.3->tensorboard<2.14,>=2.13->tensorflow) (4.9)\n",
            "Requirement already satisfied: requests-oauthlib>=0.7.0 in /usr/local/lib/python3.10/dist-packages (from google-auth-oauthlib<1.1,>=0.5->tensorboard<2.14,>=2.13->tensorflow) (1.3.1)\n",
            "Requirement already satisfied: charset-normalizer<4,>=2 in /usr/local/lib/python3.10/dist-packages (from requests<3,>=2.21.0->tensorboard<2.14,>=2.13->tensorflow) (3.2.0)\n",
            "Requirement already satisfied: idna<4,>=2.5 in /usr/local/lib/python3.10/dist-packages (from requests<3,>=2.21.0->tensorboard<2.14,>=2.13->tensorflow) (3.4)\n",
            "Requirement already satisfied: urllib3<3,>=1.21.1 in /usr/local/lib/python3.10/dist-packages (from requests<3,>=2.21.0->tensorboard<2.14,>=2.13->tensorflow) (2.0.5)\n",
            "Requirement already satisfied: certifi>=2017.4.17 in /usr/local/lib/python3.10/dist-packages (from requests<3,>=2.21.0->tensorboard<2.14,>=2.13->tensorflow) (2023.7.22)\n",
            "Requirement already satisfied: MarkupSafe>=2.1.1 in /usr/local/lib/python3.10/dist-packages (from werkzeug>=1.0.1->tensorboard<2.14,>=2.13->tensorflow) (2.1.3)\n",
            "Requirement already satisfied: pyasn1<0.6.0,>=0.4.6 in /usr/local/lib/python3.10/dist-packages (from pyasn1-modules>=0.2.1->google-auth<3,>=1.6.3->tensorboard<2.14,>=2.13->tensorflow) (0.5.0)\n",
            "Requirement already satisfied: oauthlib>=3.0.0 in /usr/local/lib/python3.10/dist-packages (from requests-oauthlib>=0.7.0->google-auth-oauthlib<1.1,>=0.5->tensorboard<2.14,>=2.13->tensorflow) (3.2.2)\n"
          ]
        }
      ]
    },
    {
      "cell_type": "code",
      "source": [
        "! rm -rf train; mkdir train\n",
        "! unzip -q 'drive/My Drive/CSE499A/Datasets/train.zip' -d train"
      ],
      "metadata": {
        "id": "SK0YHoW8UNna"
      },
      "execution_count": null,
      "outputs": []
    },
    {
      "cell_type": "code",
      "source": [
        "! rm -rf dev; mkdir dev;\n",
        "! unzip -q 'drive/My Drive/CSE499A/Datasets/test-public.zip' -d dev\n",
        "! rm -rf test; mkdir test\n",
        "! unzip -q 'drive/My Drive/CSE499A/Datasets/test-private.zip' -d test\n"
      ],
      "metadata": {
        "id": "HsEhnLcjEzrX"
      },
      "execution_count": null,
      "outputs": []
    },
    {
      "cell_type": "code",
      "source": [
        "%%bash\n",
        "root='/content/train/'\n",
        "IFS=$(echo -en \"\\n\\b\")\n",
        "(for dir in $(ls -1 \"$root\")\n",
        "    do printf \"$dir: \" && ls -i \"$root/$dir\" | wc -l\n",
        " done)"
      ],
      "metadata": {
        "id": "l8HMCmlMXOj_",
        "colab": {
          "base_uri": "https://localhost:8080/"
        },
        "outputId": "aced96cc-7670-4de6-be33-a977fde12c8f"
      },
      "execution_count": null,
      "outputs": [
        {
          "output_type": "stream",
          "name": "stdout",
          "text": [
            "0 angry: 3995\n",
            "1 disgust: 436\n",
            "2 fear: 4097\n",
            "3 happy: 7215\n",
            "4 sad: 4830\n",
            "5 surprise: 3171\n",
            "6 neutral: 4965\n"
          ]
        }
      ]
    },
    {
      "cell_type": "code",
      "source": [
        "\n",
        "from tensorflow.keras.preprocessing.image import ImageDataGenerator\n",
        "\n",
        "def get_datagen(dataset, aug=False):\n",
        "  if aug:\n",
        "    datagen = ImageDataGenerator(\n",
        "            rescale = 1./255,\n",
        "            featurewise_center=False,\n",
        "            featurewise_std_normalization=False,\n",
        "            rotation_range=10,\n",
        "            width_shift_range = 0.1,\n",
        "            height_shift_range=0.1,\n",
        "            zoom_range = 0.1,\n",
        "            horizontal_flip = True\n",
        "    )\n",
        "  else:\n",
        "       datagen = ImageDataGenerator (rescale = 1./255)\n",
        "\n",
        "  return datagen.flow_from_directory(\n",
        "      dataset,\n",
        "      target_size =(48,48),\n",
        "      color_mode = 'grayscale',\n",
        "      shuffle = True,\n",
        "      class_mode = 'categorical',\n",
        "      batch_size =BS)\n",
        "\n",
        "\n"
      ],
      "metadata": {
        "id": "SgntZ9K1DWpM"
      },
      "execution_count": null,
      "outputs": []
    },
    {
      "cell_type": "code",
      "source": [
        "train_generator = get_datagen('/content/train', True)\n",
        "dev_generator = get_datagen('/content/dev')\n",
        "test_generator = get_datagen('/content/test')\n",
        "\n"
      ],
      "metadata": {
        "colab": {
          "base_uri": "https://localhost:8080/"
        },
        "id": "zHHyF2DYGm6I",
        "outputId": "1c1ae0f0-d471-40aa-b795-fcf461bd6b8c"
      },
      "execution_count": null,
      "outputs": [
        {
          "output_type": "stream",
          "name": "stdout",
          "text": [
            "Found 28709 images belonging to 7 classes.\n",
            "Found 3589 images belonging to 7 classes.\n",
            "Found 3589 images belonging to 7 classes.\n"
          ]
        }
      ]
    },
    {
      "cell_type": "code",
      "source": [
        "history = model.fit(\n",
        "    x=train_generator,\n",
        "    validation_data=dev_generator,\n",
        "    shuffle=True,\n",
        "    epochs=EPOCH,\n",
        "    callbacks=callbacks_list,\n",
        "    use_multiprocessing=False,\n",
        ")\n",
        "\n",
        "\n"
      ],
      "metadata": {
        "colab": {
          "base_uri": "https://localhost:8080/"
        },
        "id": "1DYhvdFaHHgM",
        "outputId": "acaf1d1e-afd5-48b9-dac6-ed5f8beb2587"
      },
      "execution_count": null,
      "outputs": [
        {
          "output_type": "stream",
          "name": "stdout",
          "text": [
            "Epoch 1/150\n",
            "225/225 [==============================] - 29s 129ms/step - loss: 1.8403 - accuracy: 0.2936 - val_loss: 1.7454 - val_accuracy: 0.3196 - lr: 0.0097\n",
            "Epoch 2/150\n",
            "225/225 [==============================] - 28s 125ms/step - loss: 1.7643 - accuracy: 0.3227 - val_loss: 1.5564 - val_accuracy: 0.4023 - lr: 0.0095\n",
            "Epoch 3/150\n",
            "225/225 [==============================] - 28s 122ms/step - loss: 1.7066 - accuracy: 0.3433 - val_loss: 1.6292 - val_accuracy: 0.4021 - lr: 0.0093\n",
            "Epoch 4/150\n",
            "225/225 [==============================] - 28s 124ms/step - loss: 1.6268 - accuracy: 0.3776 - val_loss: 1.4241 - val_accuracy: 0.4533 - lr: 0.0091\n",
            "Epoch 5/150\n",
            "225/225 [==============================] - 30s 132ms/step - loss: 1.5556 - accuracy: 0.4066 - val_loss: 1.3822 - val_accuracy: 0.4829 - lr: 0.0089\n",
            "Epoch 6/150\n",
            "225/225 [==============================] - 27s 121ms/step - loss: 1.5221 - accuracy: 0.4211 - val_loss: 1.3402 - val_accuracy: 0.4884 - lr: 0.0087\n",
            "Epoch 7/150\n",
            "225/225 [==============================] - 27s 121ms/step - loss: 1.4739 - accuracy: 0.4361 - val_loss: 1.3163 - val_accuracy: 0.5063 - lr: 0.0085\n",
            "Epoch 8/150\n",
            "225/225 [==============================] - 27s 122ms/step - loss: 1.4428 - accuracy: 0.4528 - val_loss: 1.2743 - val_accuracy: 0.5213 - lr: 0.0084\n",
            "Epoch 9/150\n",
            "225/225 [==============================] - 27s 121ms/step - loss: 1.4127 - accuracy: 0.4592 - val_loss: 1.2691 - val_accuracy: 0.5135 - lr: 0.0082\n",
            "Epoch 10/150\n",
            "225/225 [==============================] - 27s 121ms/step - loss: 1.3911 - accuracy: 0.4695 - val_loss: 1.2095 - val_accuracy: 0.5442 - lr: 0.0080\n",
            "Epoch 11/150\n",
            "225/225 [==============================] - 27s 120ms/step - loss: 1.3664 - accuracy: 0.4805 - val_loss: 1.2318 - val_accuracy: 0.5400 - lr: 0.0079\n",
            "Epoch 12/150\n",
            "225/225 [==============================] - 27s 122ms/step - loss: 1.3433 - accuracy: 0.4888 - val_loss: 1.2070 - val_accuracy: 0.5531 - lr: 0.0077\n",
            "Epoch 13/150\n",
            "225/225 [==============================] - 29s 129ms/step - loss: 1.3381 - accuracy: 0.4900 - val_loss: 1.1932 - val_accuracy: 0.5461 - lr: 0.0075\n",
            "Epoch 14/150\n",
            "225/225 [==============================] - 27s 122ms/step - loss: 1.3202 - accuracy: 0.4952 - val_loss: 1.1803 - val_accuracy: 0.5536 - lr: 0.0074\n",
            "Epoch 15/150\n",
            "225/225 [==============================] - 27s 120ms/step - loss: 1.3018 - accuracy: 0.5038 - val_loss: 1.1811 - val_accuracy: 0.5536 - lr: 0.0072\n",
            "Epoch 16/150\n",
            "225/225 [==============================] - 29s 129ms/step - loss: 1.2888 - accuracy: 0.5065 - val_loss: 1.1599 - val_accuracy: 0.5520 - lr: 0.0071\n",
            "Epoch 17/150\n",
            "225/225 [==============================] - 28s 126ms/step - loss: 1.2785 - accuracy: 0.5127 - val_loss: 1.1662 - val_accuracy: 0.5620 - lr: 0.0069\n",
            "Epoch 18/150\n",
            "225/225 [==============================] - 28s 122ms/step - loss: 1.2598 - accuracy: 0.5204 - val_loss: 1.1322 - val_accuracy: 0.5726 - lr: 0.0068\n",
            "Epoch 19/150\n",
            "225/225 [==============================] - 27s 119ms/step - loss: 1.2486 - accuracy: 0.5230 - val_loss: 1.1440 - val_accuracy: 0.5723 - lr: 0.0067\n",
            "Epoch 20/150\n",
            "225/225 [==============================] - 28s 125ms/step - loss: 1.2392 - accuracy: 0.5270 - val_loss: 1.1355 - val_accuracy: 0.5676 - lr: 0.0065\n",
            "Epoch 21/150\n",
            "225/225 [==============================] - 28s 125ms/step - loss: 1.2296 - accuracy: 0.5329 - val_loss: 1.1285 - val_accuracy: 0.5712 - lr: 0.0064\n",
            "Epoch 22/150\n",
            "225/225 [==============================] - 29s 128ms/step - loss: 1.2205 - accuracy: 0.5354 - val_loss: 1.1198 - val_accuracy: 0.5751 - lr: 0.0063\n",
            "Epoch 23/150\n",
            "225/225 [==============================] - 28s 123ms/step - loss: 1.2142 - accuracy: 0.5363 - val_loss: 1.1110 - val_accuracy: 0.5807 - lr: 0.0061\n",
            "Epoch 24/150\n",
            "225/225 [==============================] - 28s 126ms/step - loss: 1.2081 - accuracy: 0.5413 - val_loss: 1.1115 - val_accuracy: 0.5834 - lr: 0.0060\n",
            "Epoch 25/150\n",
            "225/225 [==============================] - 29s 127ms/step - loss: 1.1977 - accuracy: 0.5468 - val_loss: 1.0877 - val_accuracy: 0.5843 - lr: 0.0059\n",
            "Epoch 26/150\n",
            "225/225 [==============================] - 28s 124ms/step - loss: 1.1883 - accuracy: 0.5459 - val_loss: 1.0816 - val_accuracy: 0.5965 - lr: 0.0058\n",
            "Epoch 27/150\n",
            "225/225 [==============================] - 28s 124ms/step - loss: 1.1752 - accuracy: 0.5520 - val_loss: 1.0834 - val_accuracy: 0.5890 - lr: 0.0056\n",
            "Epoch 28/150\n",
            "225/225 [==============================] - 28s 122ms/step - loss: 1.1726 - accuracy: 0.5530 - val_loss: 1.0750 - val_accuracy: 0.5943 - lr: 0.0055\n",
            "Epoch 29/150\n",
            "225/225 [==============================] - 27s 121ms/step - loss: 1.1674 - accuracy: 0.5504 - val_loss: 1.0591 - val_accuracy: 0.5940 - lr: 0.0054\n",
            "Epoch 30/150\n",
            "225/225 [==============================] - 28s 124ms/step - loss: 1.1665 - accuracy: 0.5564 - val_loss: 1.0677 - val_accuracy: 0.5971 - lr: 0.0053\n",
            "Epoch 31/150\n",
            "225/225 [==============================] - 27s 118ms/step - loss: 1.1603 - accuracy: 0.5601 - val_loss: 1.0745 - val_accuracy: 0.5921 - lr: 0.0052\n",
            "Epoch 32/150\n",
            "225/225 [==============================] - 29s 128ms/step - loss: 1.1602 - accuracy: 0.5566 - val_loss: 1.0775 - val_accuracy: 0.5999 - lr: 0.0051\n",
            "Epoch 33/150\n",
            "225/225 [==============================] - 28s 122ms/step - loss: 1.1500 - accuracy: 0.5629 - val_loss: 1.0649 - val_accuracy: 0.5988 - lr: 0.0050\n",
            "Epoch 34/150\n",
            "225/225 [==============================] - 29s 128ms/step - loss: 1.1411 - accuracy: 0.5661 - val_loss: 1.0694 - val_accuracy: 0.5963 - lr: 0.0049\n",
            "Epoch 35/150\n",
            "225/225 [==============================] - 27s 121ms/step - loss: 1.1364 - accuracy: 0.5673 - val_loss: 1.0593 - val_accuracy: 0.6013 - lr: 0.0048\n",
            "Epoch 36/150\n",
            "225/225 [==============================] - 27s 122ms/step - loss: 1.1290 - accuracy: 0.5711 - val_loss: 1.0586 - val_accuracy: 0.6046 - lr: 0.0047\n",
            "Epoch 37/150\n",
            "225/225 [==============================] - 27s 121ms/step - loss: 1.1276 - accuracy: 0.5721 - val_loss: 1.0661 - val_accuracy: 0.5999 - lr: 0.0046\n",
            "Epoch 38/150\n",
            "225/225 [==============================] - 29s 128ms/step - loss: 1.1215 - accuracy: 0.5753 - val_loss: 1.0513 - val_accuracy: 0.6077 - lr: 0.0045\n",
            "Epoch 39/150\n",
            "225/225 [==============================] - 28s 124ms/step - loss: 1.1167 - accuracy: 0.5777 - val_loss: 1.0420 - val_accuracy: 0.6135 - lr: 0.0044\n",
            "Epoch 40/150\n",
            "225/225 [==============================] - 27s 122ms/step - loss: 1.1097 - accuracy: 0.5769 - val_loss: 1.0511 - val_accuracy: 0.6041 - lr: 0.0043\n",
            "Epoch 41/150\n",
            "225/225 [==============================] - 29s 130ms/step - loss: 1.1094 - accuracy: 0.5793 - val_loss: 1.0507 - val_accuracy: 0.6066 - lr: 0.0042\n",
            "Epoch 42/150\n",
            "225/225 [==============================] - 27s 122ms/step - loss: 1.1047 - accuracy: 0.5774 - val_loss: 1.0450 - val_accuracy: 0.6147 - lr: 0.0041\n",
            "Epoch 43/150\n",
            "225/225 [==============================] - 29s 128ms/step - loss: 1.1062 - accuracy: 0.5808 - val_loss: 1.0322 - val_accuracy: 0.6074 - lr: 0.0040\n",
            "Epoch 44/150\n",
            "225/225 [==============================] - 28s 126ms/step - loss: 1.0975 - accuracy: 0.5848 - val_loss: 1.0418 - val_accuracy: 0.6091 - lr: 0.0040\n",
            "Epoch 45/150\n",
            "225/225 [==============================] - 28s 123ms/step - loss: 1.0995 - accuracy: 0.5835 - val_loss: 1.0339 - val_accuracy: 0.6135 - lr: 0.0039\n",
            "Epoch 46/150\n",
            "225/225 [==============================] - 28s 124ms/step - loss: 1.0905 - accuracy: 0.5850 - val_loss: 1.0329 - val_accuracy: 0.6194 - lr: 0.0038\n",
            "Epoch 47/150\n",
            "225/225 [==============================] - 28s 126ms/step - loss: 1.0862 - accuracy: 0.5917 - val_loss: 1.0320 - val_accuracy: 0.6177 - lr: 0.0037\n",
            "Epoch 48/150\n",
            "225/225 [==============================] - 28s 125ms/step - loss: 1.0863 - accuracy: 0.5853 - val_loss: 1.0297 - val_accuracy: 0.6194 - lr: 0.0037\n",
            "Epoch 49/150\n",
            "225/225 [==============================] - 28s 126ms/step - loss: 1.0721 - accuracy: 0.5929 - val_loss: 1.0214 - val_accuracy: 0.6180 - lr: 0.0036\n",
            "Epoch 50/150\n",
            "225/225 [==============================] - 29s 128ms/step - loss: 1.0769 - accuracy: 0.5918 - val_loss: 1.0311 - val_accuracy: 0.6188 - lr: 0.0035\n",
            "Epoch 51/150\n",
            "225/225 [==============================] - 28s 123ms/step - loss: 1.0653 - accuracy: 0.5979 - val_loss: 1.0196 - val_accuracy: 0.6211 - lr: 0.0034\n",
            "Epoch 52/150\n",
            "225/225 [==============================] - 28s 126ms/step - loss: 1.0691 - accuracy: 0.5937 - val_loss: 1.0261 - val_accuracy: 0.6202 - lr: 0.0034\n",
            "Epoch 53/150\n",
            "225/225 [==============================] - 28s 126ms/step - loss: 1.0717 - accuracy: 0.5933 - val_loss: 1.0116 - val_accuracy: 0.6186 - lr: 0.0033\n",
            "Epoch 54/150\n",
            "225/225 [==============================] - 27s 120ms/step - loss: 1.0625 - accuracy: 0.5988 - val_loss: 1.0112 - val_accuracy: 0.6205 - lr: 0.0032\n",
            "Epoch 55/150\n",
            "225/225 [==============================] - 28s 123ms/step - loss: 1.0628 - accuracy: 0.5942 - val_loss: 1.0153 - val_accuracy: 0.6241 - lr: 0.0032\n",
            "Epoch 56/150\n",
            "225/225 [==============================] - 28s 123ms/step - loss: 1.0608 - accuracy: 0.5975 - val_loss: 1.0108 - val_accuracy: 0.6241 - lr: 0.0031\n",
            "Epoch 57/150\n",
            "225/225 [==============================] - 28s 123ms/step - loss: 1.0562 - accuracy: 0.5993 - val_loss: 1.0051 - val_accuracy: 0.6177 - lr: 0.0030\n",
            "Epoch 58/150\n",
            "225/225 [==============================] - 28s 125ms/step - loss: 1.0600 - accuracy: 0.5998 - val_loss: 1.0104 - val_accuracy: 0.6255 - lr: 0.0030\n",
            "Epoch 59/150\n",
            "225/225 [==============================] - 29s 130ms/step - loss: 1.0498 - accuracy: 0.6052 - val_loss: 1.0045 - val_accuracy: 0.6286 - lr: 0.0029\n",
            "Epoch 60/150\n",
            "225/225 [==============================] - 28s 123ms/step - loss: 1.0538 - accuracy: 0.6012 - val_loss: 1.0049 - val_accuracy: 0.6280 - lr: 0.0028\n",
            "Epoch 61/150\n",
            "225/225 [==============================] - 28s 122ms/step - loss: 1.0488 - accuracy: 0.6017 - val_loss: 1.0043 - val_accuracy: 0.6202 - lr: 0.0028\n",
            "Epoch 62/150\n",
            "225/225 [==============================] - 29s 131ms/step - loss: 1.0415 - accuracy: 0.6075 - val_loss: 1.0062 - val_accuracy: 0.6303 - lr: 0.0027\n",
            "Epoch 63/150\n",
            "225/225 [==============================] - 28s 123ms/step - loss: 1.0402 - accuracy: 0.6030 - val_loss: 1.0080 - val_accuracy: 0.6266 - lr: 0.0027\n",
            "Epoch 64/150\n",
            "225/225 [==============================] - 28s 126ms/step - loss: 1.0376 - accuracy: 0.6078 - val_loss: 1.0093 - val_accuracy: 0.6294 - lr: 0.0026\n",
            "Epoch 65/150\n",
            "225/225 [==============================] - 28s 124ms/step - loss: 1.0422 - accuracy: 0.6061 - val_loss: 0.9981 - val_accuracy: 0.6275 - lr: 0.0026\n",
            "Epoch 66/150\n",
            "225/225 [==============================] - 27s 122ms/step - loss: 1.0313 - accuracy: 0.6098 - val_loss: 0.9934 - val_accuracy: 0.6325 - lr: 0.0025\n",
            "Epoch 67/150\n",
            "225/225 [==============================] - 28s 123ms/step - loss: 1.0330 - accuracy: 0.6105 - val_loss: 0.9933 - val_accuracy: 0.6322 - lr: 0.0025\n",
            "Epoch 68/150\n",
            "225/225 [==============================] - 30s 131ms/step - loss: 1.0340 - accuracy: 0.6100 - val_loss: 1.0024 - val_accuracy: 0.6258 - lr: 0.0024\n",
            "Epoch 69/150\n",
            "225/225 [==============================] - 28s 123ms/step - loss: 1.0364 - accuracy: 0.6102 - val_loss: 0.9922 - val_accuracy: 0.6322 - lr: 0.0024\n",
            "Epoch 70/150\n",
            "225/225 [==============================] - 28s 123ms/step - loss: 1.0325 - accuracy: 0.6072 - val_loss: 0.9994 - val_accuracy: 0.6252 - lr: 0.0023\n",
            "Epoch 71/150\n",
            "225/225 [==============================] - 29s 129ms/step - loss: 1.0275 - accuracy: 0.6110 - val_loss: 1.0065 - val_accuracy: 0.6303 - lr: 0.0023\n",
            "Epoch 72/150\n",
            "225/225 [==============================] - 28s 123ms/step - loss: 1.0230 - accuracy: 0.6147 - val_loss: 1.0036 - val_accuracy: 0.6241 - lr: 0.0022\n",
            "Epoch 73/150\n",
            "225/225 [==============================] - 28s 124ms/step - loss: 1.0239 - accuracy: 0.6163 - val_loss: 1.0016 - val_accuracy: 0.6328 - lr: 0.0022\n",
            "Epoch 74/150\n",
            "225/225 [==============================] - 28s 124ms/step - loss: 1.0233 - accuracy: 0.6121 - val_loss: 0.9947 - val_accuracy: 0.6297 - lr: 0.0021\n",
            "Epoch 75/150\n",
            "225/225 [==============================] - 28s 126ms/step - loss: 1.0216 - accuracy: 0.6139 - val_loss: 1.0006 - val_accuracy: 0.6314 - lr: 0.0021\n",
            "Epoch 76/150\n",
            "225/225 [==============================] - 28s 125ms/step - loss: 1.0195 - accuracy: 0.6177 - val_loss: 0.9945 - val_accuracy: 0.6308 - lr: 0.0020\n",
            "Epoch 77/150\n",
            "225/225 [==============================] - 30s 133ms/step - loss: 1.0107 - accuracy: 0.6179 - val_loss: 0.9999 - val_accuracy: 0.6294 - lr: 0.0020\n",
            "Epoch 78/150\n",
            "225/225 [==============================] - 28s 124ms/step - loss: 1.0113 - accuracy: 0.6183 - val_loss: 0.9943 - val_accuracy: 0.6347 - lr: 0.0020\n",
            "Epoch 79/150\n",
            "225/225 [==============================] - 29s 130ms/step - loss: 1.0164 - accuracy: 0.6164 - val_loss: 0.9938 - val_accuracy: 0.6319 - lr: 0.0019\n",
            "Epoch 80/150\n",
            "225/225 [==============================] - 28s 124ms/step - loss: 1.0098 - accuracy: 0.6188 - val_loss: 0.9940 - val_accuracy: 0.6342 - lr: 0.0019\n",
            "Epoch 81/150\n",
            "225/225 [==============================] - 28s 125ms/step - loss: 1.0127 - accuracy: 0.6160 - val_loss: 0.9910 - val_accuracy: 0.6336 - lr: 0.0018\n",
            "Epoch 82/150\n",
            "225/225 [==============================] - 28s 124ms/step - loss: 1.0039 - accuracy: 0.6193 - val_loss: 0.9983 - val_accuracy: 0.6308 - lr: 0.0018\n",
            "Epoch 83/150\n",
            "225/225 [==============================] - 28s 125ms/step - loss: 1.0059 - accuracy: 0.6184 - val_loss: 0.9966 - val_accuracy: 0.6322 - lr: 0.0018\n",
            "Epoch 84/150\n",
            "225/225 [==============================] - 28s 125ms/step - loss: 1.0002 - accuracy: 0.6197 - val_loss: 0.9961 - val_accuracy: 0.6361 - lr: 0.0017\n",
            "Epoch 85/150\n",
            "225/225 [==============================] - 28s 124ms/step - loss: 1.0008 - accuracy: 0.6244 - val_loss: 0.9883 - val_accuracy: 0.6375 - lr: 0.0017\n",
            "Epoch 86/150\n",
            "225/225 [==============================] - 29s 129ms/step - loss: 1.0037 - accuracy: 0.6209 - val_loss: 0.9899 - val_accuracy: 0.6392 - lr: 0.0017\n",
            "Epoch 87/150\n",
            "225/225 [==============================] - 28s 123ms/step - loss: 0.9940 - accuracy: 0.6245 - val_loss: 0.9838 - val_accuracy: 0.6381 - lr: 0.0016\n",
            "Epoch 88/150\n",
            "225/225 [==============================] - 28s 126ms/step - loss: 0.9956 - accuracy: 0.6200 - val_loss: 0.9915 - val_accuracy: 0.6347 - lr: 0.0016\n",
            "Epoch 89/150\n",
            "225/225 [==============================] - 29s 128ms/step - loss: 0.9970 - accuracy: 0.6215 - val_loss: 0.9871 - val_accuracy: 0.6369 - lr: 0.0016\n",
            "Epoch 90/150\n",
            "225/225 [==============================] - 28s 127ms/step - loss: 0.9936 - accuracy: 0.6251 - val_loss: 0.9858 - val_accuracy: 0.6356 - lr: 0.0015\n",
            "Epoch 91/150\n",
            "225/225 [==============================] - 28s 127ms/step - loss: 0.9954 - accuracy: 0.6257 - val_loss: 0.9804 - val_accuracy: 0.6361 - lr: 0.0015\n",
            "Epoch 92/150\n",
            "225/225 [==============================] - 28s 124ms/step - loss: 0.9914 - accuracy: 0.6262 - val_loss: 0.9779 - val_accuracy: 0.6364 - lr: 0.0015\n",
            "Epoch 93/150\n",
            "225/225 [==============================] - 29s 127ms/step - loss: 0.9863 - accuracy: 0.6291 - val_loss: 0.9815 - val_accuracy: 0.6381 - lr: 0.0014\n",
            "Epoch 94/150\n",
            "225/225 [==============================] - 30s 134ms/step - loss: 0.9901 - accuracy: 0.6265 - val_loss: 0.9779 - val_accuracy: 0.6395 - lr: 0.0014\n",
            "Epoch 95/150\n",
            "225/225 [==============================] - 30s 132ms/step - loss: 0.9894 - accuracy: 0.6280 - val_loss: 0.9766 - val_accuracy: 0.6442 - lr: 0.0014\n",
            "Epoch 96/150\n",
            "225/225 [==============================] - 29s 130ms/step - loss: 0.9892 - accuracy: 0.6279 - val_loss: 0.9815 - val_accuracy: 0.6417 - lr: 0.0014\n",
            "Epoch 97/150\n",
            "225/225 [==============================] - 30s 134ms/step - loss: 0.9920 - accuracy: 0.6258 - val_loss: 0.9788 - val_accuracy: 0.6378 - lr: 0.0013\n",
            "Epoch 98/150\n",
            "225/225 [==============================] - 28s 126ms/step - loss: 0.9873 - accuracy: 0.6272 - val_loss: 0.9844 - val_accuracy: 0.6417 - lr: 0.0013\n",
            "Epoch 99/150\n",
            "225/225 [==============================] - 28s 126ms/step - loss: 0.9819 - accuracy: 0.6324 - val_loss: 0.9838 - val_accuracy: 0.6381 - lr: 0.0013\n",
            "Epoch 100/150\n",
            "225/225 [==============================] - 28s 126ms/step - loss: 0.9856 - accuracy: 0.6292 - val_loss: 0.9768 - val_accuracy: 0.6428 - lr: 0.0012\n",
            "Epoch 101/150\n",
            "225/225 [==============================] - 30s 131ms/step - loss: 0.9825 - accuracy: 0.6276 - val_loss: 0.9786 - val_accuracy: 0.6425 - lr: 0.0012\n",
            "Epoch 102/150\n",
            "225/225 [==============================] - 31s 136ms/step - loss: 0.9862 - accuracy: 0.6302 - val_loss: 0.9840 - val_accuracy: 0.6420 - lr: 0.0012\n",
            "Epoch 103/150\n",
            "225/225 [==============================] - 28s 126ms/step - loss: 0.9818 - accuracy: 0.6305 - val_loss: 0.9776 - val_accuracy: 0.6397 - lr: 0.0012\n",
            "Epoch 104/150\n",
            "225/225 [==============================] - 29s 130ms/step - loss: 0.9826 - accuracy: 0.6308 - val_loss: 0.9788 - val_accuracy: 0.6378 - lr: 0.0011\n",
            "Epoch 105/150\n",
            "225/225 [==============================] - ETA: 0s - loss: 0.9782 - accuracy: 0.6329\n",
            "Epoch 105: ReduceLROnPlateau reducing learning rate to 0.0005602863384410739.\n",
            "225/225 [==============================] - 29s 130ms/step - loss: 0.9782 - accuracy: 0.6329 - val_loss: 0.9832 - val_accuracy: 0.6400 - lr: 0.0011\n",
            "Epoch 106/150\n",
            "225/225 [==============================] - 28s 125ms/step - loss: 0.9814 - accuracy: 0.6286 - val_loss: 0.9779 - val_accuracy: 0.6425 - lr: 0.0011\n",
            "Epoch 107/150\n",
            "225/225 [==============================] - 29s 127ms/step - loss: 0.9735 - accuracy: 0.6313 - val_loss: 0.9824 - val_accuracy: 0.6403 - lr: 0.0011\n",
            "Epoch 108/150\n",
            "225/225 [==============================] - 29s 128ms/step - loss: 0.9755 - accuracy: 0.6330 - val_loss: 0.9768 - val_accuracy: 0.6428 - lr: 0.0011\n",
            "Epoch 109/150\n",
            "225/225 [==============================] - 29s 130ms/step - loss: 0.9808 - accuracy: 0.6287 - val_loss: 0.9795 - val_accuracy: 0.6411 - lr: 0.0010\n",
            "Epoch 110/150\n",
            "225/225 [==============================] - 29s 131ms/step - loss: 0.9751 - accuracy: 0.6314 - val_loss: 0.9784 - val_accuracy: 0.6414 - lr: 0.0010\n",
            "Epoch 111/150\n",
            "225/225 [==============================] - 28s 125ms/step - loss: 0.9702 - accuracy: 0.6362 - val_loss: 0.9835 - val_accuracy: 0.6403 - lr: 9.8956e-04\n",
            "Epoch 112/150\n",
            "225/225 [==============================] - 29s 128ms/step - loss: 0.9718 - accuracy: 0.6323 - val_loss: 0.9782 - val_accuracy: 0.6420 - lr: 9.6926e-04\n",
            "Epoch 113/150\n",
            "225/225 [==============================] - 29s 129ms/step - loss: 0.9799 - accuracy: 0.6329 - val_loss: 0.9812 - val_accuracy: 0.6372 - lr: 9.4938e-04\n",
            "Epoch 114/150\n",
            "225/225 [==============================] - 30s 133ms/step - loss: 0.9711 - accuracy: 0.6347 - val_loss: 0.9779 - val_accuracy: 0.6397 - lr: 9.2991e-04\n",
            "Epoch 115/150\n",
            "225/225 [==============================] - ETA: 0s - loss: 0.9731 - accuracy: 0.6348\n",
            "Epoch 115: ReduceLROnPlateau reducing learning rate to 0.000455417757621035.\n",
            "225/225 [==============================] - 29s 128ms/step - loss: 0.9731 - accuracy: 0.6348 - val_loss: 0.9801 - val_accuracy: 0.6414 - lr: 9.1084e-04\n",
            "Epoch 116/150\n",
            "225/225 [==============================] - 29s 128ms/step - loss: 0.9718 - accuracy: 0.6323 - val_loss: 0.9755 - val_accuracy: 0.6428 - lr: 8.9215e-04\n",
            "Epoch 117/150\n",
            "225/225 [==============================] - 29s 127ms/step - loss: 0.9752 - accuracy: 0.6310 - val_loss: 0.9818 - val_accuracy: 0.6406 - lr: 8.7386e-04\n",
            "Epoch 118/150\n",
            "225/225 [==============================] - 30s 134ms/step - loss: 0.9675 - accuracy: 0.6375 - val_loss: 0.9762 - val_accuracy: 0.6395 - lr: 8.5593e-04\n",
            "Epoch 119/150\n",
            "225/225 [==============================] - 29s 127ms/step - loss: 0.9699 - accuracy: 0.6349 - val_loss: 0.9773 - val_accuracy: 0.6411 - lr: 8.3838e-04\n",
            "Epoch 120/150\n",
            "225/225 [==============================] - 29s 127ms/step - loss: 0.9696 - accuracy: 0.6341 - val_loss: 0.9773 - val_accuracy: 0.6414 - lr: 8.2118e-04\n",
            "Epoch 121/150\n",
            "225/225 [==============================] - 29s 127ms/step - loss: 0.9704 - accuracy: 0.6330 - val_loss: 0.9797 - val_accuracy: 0.6417 - lr: 8.0434e-04\n",
            "Epoch 122/150\n",
            "225/225 [==============================] - 29s 127ms/step - loss: 0.9663 - accuracy: 0.6371 - val_loss: 0.9766 - val_accuracy: 0.6453 - lr: 7.8784e-04\n",
            "Epoch 123/150\n",
            "225/225 [==============================] - 28s 126ms/step - loss: 0.9630 - accuracy: 0.6381 - val_loss: 0.9767 - val_accuracy: 0.6442 - lr: 7.7169e-04\n",
            "Epoch 124/150\n",
            "225/225 [==============================] - 30s 135ms/step - loss: 0.9699 - accuracy: 0.6335 - val_loss: 0.9738 - val_accuracy: 0.6425 - lr: 7.5586e-04\n",
            "Epoch 125/150\n",
            "225/225 [==============================] - 28s 127ms/step - loss: 0.9610 - accuracy: 0.6412 - val_loss: 0.9725 - val_accuracy: 0.6422 - lr: 7.4036e-04\n",
            "Epoch 126/150\n",
            "225/225 [==============================] - 28s 126ms/step - loss: 0.9636 - accuracy: 0.6383 - val_loss: 0.9734 - val_accuracy: 0.6436 - lr: 7.2517e-04\n",
            "Epoch 127/150\n",
            "225/225 [==============================] - 28s 126ms/step - loss: 0.9671 - accuracy: 0.6368 - val_loss: 0.9737 - val_accuracy: 0.6439 - lr: 7.1030e-04\n",
            "Epoch 128/150\n",
            "225/225 [==============================] - 28s 126ms/step - loss: 0.9619 - accuracy: 0.6380 - val_loss: 0.9704 - val_accuracy: 0.6431 - lr: 6.9573e-04\n",
            "Epoch 129/150\n",
            "225/225 [==============================] - 29s 127ms/step - loss: 0.9631 - accuracy: 0.6379 - val_loss: 0.9709 - val_accuracy: 0.6417 - lr: 6.8146e-04\n",
            "Epoch 130/150\n",
            "225/225 [==============================] - 30s 133ms/step - loss: 0.9585 - accuracy: 0.6411 - val_loss: 0.9759 - val_accuracy: 0.6403 - lr: 6.6748e-04\n",
            "Epoch 131/150\n",
            "225/225 [==============================] - 29s 129ms/step - loss: 0.9601 - accuracy: 0.6401 - val_loss: 0.9764 - val_accuracy: 0.6403 - lr: 6.5379e-04\n",
            "Epoch 132/150\n",
            "225/225 [==============================] - ETA: 0s - loss: 0.9579 - accuracy: 0.6372\n",
            "Epoch 132: ReduceLROnPlateau reducing learning rate to 0.0003201916697435081.\n",
            "225/225 [==============================] - 28s 124ms/step - loss: 0.9579 - accuracy: 0.6372 - val_loss: 0.9733 - val_accuracy: 0.6447 - lr: 6.4038e-04\n",
            "Epoch 133/150\n",
            "225/225 [==============================] - 28s 126ms/step - loss: 0.9656 - accuracy: 0.6391 - val_loss: 0.9732 - val_accuracy: 0.6425 - lr: 6.2725e-04\n",
            "Epoch 134/150\n",
            "225/225 [==============================] - 30s 131ms/step - loss: 0.9606 - accuracy: 0.6383 - val_loss: 0.9737 - val_accuracy: 0.6445 - lr: 6.1438e-04\n",
            "Epoch 135/150\n",
            "225/225 [==============================] - 28s 125ms/step - loss: 0.9559 - accuracy: 0.6409 - val_loss: 0.9771 - val_accuracy: 0.6411 - lr: 6.0178e-04\n",
            "Epoch 136/150\n",
            "225/225 [==============================] - 30s 132ms/step - loss: 0.9600 - accuracy: 0.6399 - val_loss: 0.9728 - val_accuracy: 0.6453 - lr: 5.8944e-04\n",
            "Epoch 137/150\n",
            "225/225 [==============================] - 32s 144ms/step - loss: 0.9585 - accuracy: 0.6398 - val_loss: 0.9771 - val_accuracy: 0.6425 - lr: 5.7735e-04\n",
            "Epoch 138/150\n",
            "225/225 [==============================] - 29s 129ms/step - loss: 0.9608 - accuracy: 0.6409 - val_loss: 0.9755 - val_accuracy: 0.6442 - lr: 5.6551e-04\n",
            "Epoch 139/150\n",
            "225/225 [==============================] - 28s 126ms/step - loss: 0.9578 - accuracy: 0.6383 - val_loss: 0.9715 - val_accuracy: 0.6447 - lr: 5.5391e-04\n",
            "Epoch 140/150\n",
            "225/225 [==============================] - 29s 127ms/step - loss: 0.9611 - accuracy: 0.6377 - val_loss: 0.9710 - val_accuracy: 0.6467 - lr: 5.4255e-04\n",
            "Epoch 141/150\n",
            "225/225 [==============================] - 29s 127ms/step - loss: 0.9576 - accuracy: 0.6398 - val_loss: 0.9728 - val_accuracy: 0.6422 - lr: 5.3142e-04\n",
            "Epoch 142/150\n",
            "225/225 [==============================] - 29s 127ms/step - loss: 0.9597 - accuracy: 0.6396 - val_loss: 0.9741 - val_accuracy: 0.6422 - lr: 5.2052e-04\n",
            "Epoch 143/150\n",
            "225/225 [==============================] - 28s 126ms/step - loss: 0.9544 - accuracy: 0.6434 - val_loss: 0.9724 - val_accuracy: 0.6453 - lr: 5.0985e-04\n",
            "Epoch 144/150\n",
            "225/225 [==============================] - 29s 127ms/step - loss: 0.9562 - accuracy: 0.6399 - val_loss: 0.9727 - val_accuracy: 0.6436 - lr: 4.9939e-04\n",
            "Epoch 145/150\n",
            "225/225 [==============================] - 30s 133ms/step - loss: 0.9560 - accuracy: 0.6379 - val_loss: 0.9675 - val_accuracy: 0.6470 - lr: 4.8915e-04\n",
            "Epoch 146/150\n",
            "225/225 [==============================] - 28s 126ms/step - loss: 0.9539 - accuracy: 0.6431 - val_loss: 0.9685 - val_accuracy: 0.6442 - lr: 4.7912e-04\n",
            "Epoch 147/150\n",
            "225/225 [==============================] - 28s 125ms/step - loss: 0.9548 - accuracy: 0.6406 - val_loss: 0.9715 - val_accuracy: 0.6414 - lr: 4.6929e-04\n",
            "Epoch 148/150\n",
            "225/225 [==============================] - 29s 128ms/step - loss: 0.9520 - accuracy: 0.6431 - val_loss: 0.9712 - val_accuracy: 0.6422 - lr: 4.5966e-04\n",
            "Epoch 149/150\n",
            "225/225 [==============================] - 29s 131ms/step - loss: 0.9541 - accuracy: 0.6382 - val_loss: 0.9746 - val_accuracy: 0.6408 - lr: 4.5024e-04\n",
            "Epoch 150/150\n",
            "225/225 [==============================] - 29s 128ms/step - loss: 0.9607 - accuracy: 0.6403 - val_loss: 0.9733 - val_accuracy: 0.6386 - lr: 4.4100e-04\n"
          ]
        }
      ]
    },
    {
      "cell_type": "code",
      "source": [
        "print('\\n# Evaluate on dev data')\n",
        "results_dev = model.evaluate(x=dev_generator, steps=3509//BS)\n",
        "print('Dev loss, Dev acc:', results_dev)\n",
        "\n"
      ],
      "metadata": {
        "colab": {
          "base_uri": "https://localhost:8080/"
        },
        "id": "SjYAKrcbXl10",
        "outputId": "38f43ad9-2e4c-4233-d194-4e3059fc7065"
      },
      "execution_count": null,
      "outputs": [
        {
          "output_type": "stream",
          "name": "stdout",
          "text": [
            "\n",
            "# Evaluate on dev data\n",
            "27/27 [==============================] - 2s 79ms/step - loss: 0.9699 - accuracy: 0.6386\n",
            "Dev loss, Dev acc: [0.9698939919471741, 0.6385995149612427]\n"
          ]
        }
      ]
    },
    {
      "cell_type": "code",
      "source": [
        "print('\\n# Evaluate on test data')\n",
        "results_test = model.evaluate(x=test_generator, steps=3509//BS)\n",
        "print('Test loss, test acc: ', results_test)\n"
      ],
      "metadata": {
        "colab": {
          "base_uri": "https://localhost:8080/"
        },
        "id": "jv0oT-JNYgYt",
        "outputId": "1e2c05c3-dac9-4778-8c27-290cd352cb35"
      },
      "execution_count": null,
      "outputs": [
        {
          "output_type": "stream",
          "name": "stdout",
          "text": [
            "\n",
            "# Evaluate on test data\n",
            "27/27 [==============================] - 1s 47ms/step - loss: 0.9377 - accuracy: 0.6594\n",
            "Test loss, test acc:  [0.9376516938209534, 0.6594328880310059]\n"
          ]
        }
      ]
    },
    {
      "cell_type": "code",
      "source": [
        "# list all data in history\n",
        "print(history.history.keys())\n",
        "# summarize history for accuracy\n",
        "plt.plot(history.history['accuracy'])\n",
        "plt.plot(history.history['val_accuracy'])\n",
        "plt.title('Model Accuracy')\n",
        "plt.ylabel('Accuracy')\n",
        "plt.xlabel('Epoch')\n",
        "plt.legend(['train','dev'], loc ='upper left')\n",
        "plt.show()\n",
        "#summarize history for loss\n",
        "plt.plot(history.history['loss'])\n",
        "plt.plot(history.history['val_loss'])\n",
        "plt.title('Model Loss')\n",
        "plt.ylabel('Loss')\n",
        "plt.xlabel('Epoch')\n",
        "plt.legend(['train','dev'], loc ='upper left')\n",
        "plt.show()\n"
      ],
      "metadata": {
        "colab": {
          "base_uri": "https://localhost:8080/",
          "height": 945
        },
        "id": "jy7gLwq7Y5x8",
        "outputId": "bc61b4e7-c5fe-41f7-b180-aa21324b3b3d"
      },
      "execution_count": null,
      "outputs": [
        {
          "output_type": "stream",
          "name": "stdout",
          "text": [
            "dict_keys(['loss', 'accuracy', 'val_loss', 'val_accuracy', 'lr'])\n"
          ]
        },
        {
          "output_type": "display_data",
          "data": {
            "text/plain": [
              "<Figure size 640x480 with 1 Axes>"
            ],
            "image/png": "[encoded data removed]"
          },
          "metadata": {}
        },
        {
          "output_type": "display_data",
          "data": {
            "text/plain": [
              "<Figure size 640x480 with 1 Axes>"
            ],
            "image/png": "[encoded data removed]"
          },
          "metadata": {}
        }
      ]
    },
    {
      "cell_type": "code",
      "source": [
        "epoch_str = '-EPOCHS_' +str(EPOCH)\n",
        "dropout_str = '-DROPOUT_' +str(DROPOUT_RATE)\n",
        "test_acc = '-test_acc_%.3f' %results_test[1]\n",
        "model.save('/content/drive/My Drive/CSE499A/models/' + 'SOA' + epoch_str + dropout_str + test_acc + '.h5')\n",
        "\n",
        "\n"
      ],
      "metadata": {
        "colab": {
          "base_uri": "https://localhost:8080/"
        },
        "id": "uHRZDOV_hw_U",
        "outputId": "45df8105-e2b0-472c-d3d5-28e281b70643"
      },
      "execution_count": null,
      "outputs": [
        {
          "output_type": "stream",
          "name": "stderr",
          "text": [
            "/usr/local/lib/python3.10/dist-packages/keras/src/engine/training.py:3000: UserWarning: You are saving your model as an HDF5 file via `model.save()`. This file format is considered legacy. We recommend using instead the native Keras format, e.g. `model.save('my_model.keras')`.\n",
            "  saving_api.save_model(\n"
          ]
        }
      ]
    },
    {
      "cell_type": "code",
      "source": [
        "from sklearn.metrics import accuracy_score\n",
        "#configure image data augmentation\n",
        "datagen = ImageDataGenerator(horizontal_flip = True)\n",
        "#make predictions using test-time augmentation\n",
        "def tta_prediction(datagen,model,image, n_examples):\n",
        "    # convert image to dataset\n",
        "    samples = np.expand_dims(image,0)\n",
        "    #prepare iterator:\n",
        "    it = datagen.flow(samples,batch_size =n_examples)\n",
        "    #make predictions for each augmented image\n",
        "    yhats = model.predict(it, steps=n_examples, verbose =0)\n",
        "    # sum across predictions\n",
        "    summed = np.sum(yhats,axis =0)\n",
        "    #argmax across classes\n",
        "    return np.argmax(summed)\n",
        "\n",
        "\n",
        "# evaluate a model on a dataset using test time augmentation\n",
        "def tta_evaluate_model(model,testX,testY):\n",
        "# configure image data augmentation\n",
        "\tdatagen = ImageDataGenerator(horizontal_flip=True)\n",
        "\t# define the number of augmented images to generate per test set image\n",
        "\tn_examples_per_image = 7\n",
        "\tyhats = list()\n",
        "\tfor i in range(len(testX)):\n",
        "\t\t# make augmented prediction\n",
        "\t\tyhat = tta_prediction(datagen, model, testX[i], n_examples_per_image)\n",
        "\t\t# store for evaluation\n",
        "\t\tyhats.append(yhat)\n",
        "\t# calculate accuracy\n",
        "\ttestY_labels = np.argmax(testY, axis=1)\n",
        "\tacc = accuracy_score(testY_labels, yhats)\n",
        "\treturn acc\n",
        "\n",
        "\n",
        "\n",
        "\n",
        "\n"
      ],
      "metadata": {
        "id": "sc64lXHlkOyg"
      },
      "execution_count": null,
      "outputs": []
    },
    {
      "cell_type": "code",
      "source": [
        "print('\\n# Evaluate on test data')\n",
        "TTA_results_test = tta_evaluate_model(model, X_test, Y_test)\n",
        "print('test loss, test acc:', results_test)\n",
        "print('TTA test acc:', TTA_results_test)"
      ],
      "metadata": {
        "id": "tptBoClKmXIi"
      },
      "execution_count": null,
      "outputs": []
    }
  ]
}