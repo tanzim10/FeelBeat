{
  "nbformat": 4,
  "nbformat_minor": 0,
  "metadata": {
    "colab": {
      "provenance": [],
      "gpuType": "T4"
    },
    "kernelspec": {
      "name": "python3",
      "display_name": "Python 3"
    },
    "language_info": {
      "name": "python"
    },
    "accelerator": "GPU"
  },
  "cells": [
    {
      "cell_type": "markdown",
      "source": [
        "##Preprocess the jaffe dataset and convert it for training dataset"
      ],
      "metadata": {
        "id": "cQWZUcIHRowj"
      }
    },
    {
      "cell_type": "code",
      "source": [
        "import os,cv2\n",
        "import numpy as np\n",
        "import pandas as pd\n",
        "import matplotlib.pyplot as plt\n",
        "import matplotlib.image as mpimg\n",
        "from PIL import Image\n",
        "\n"
      ],
      "metadata": {
        "id": "B6G6xxaLRzSN"
      },
      "execution_count": 48,
      "outputs": []
    },
    {
      "cell_type": "code",
      "source": [
        "\n",
        "from google.colab import drive\n",
        "drive.mount('/content/drive', force_remount = True)"
      ],
      "metadata": {
        "colab": {
          "base_uri": "https://localhost:8080/"
        },
        "id": "mKhYXj0zeFgS",
        "outputId": "8f0c45fc-64b3-450c-dcb3-cd78445e6d56"
      },
      "execution_count": 3,
      "outputs": [
        {
          "output_type": "stream",
          "name": "stdout",
          "text": [
            "Mounted at /content/drive\n"
          ]
        }
      ]
    },
    {
      "cell_type": "code",
      "source": [
        "#Define Datapath\n",
        "! rm -rf datas; mkdir datas\n",
        "! unzip -q '/content/drive/MyDrive/CSE499A/Datasets/Jaffe/jaffedbase.zip' -d datas"
      ],
      "metadata": {
        "id": "b7rQAe9ZdxyE"
      },
      "execution_count": 4,
      "outputs": []
    },
    {
      "cell_type": "code",
      "source": [
        "data_path = '/content/datas/jaffedbase'\n"
      ],
      "metadata": {
        "id": "I0OW-eFwfUZf"
      },
      "execution_count": 5,
      "outputs": []
    },
    {
      "cell_type": "code",
      "source": [
        "import os\n",
        "import cv2\n",
        "import numpy as np\n",
        "\n",
        "# Initialize lists to store images and labels\n",
        "images = []\n",
        "labels = []\n",
        "\n",
        "# Define the dataset path and list all files\n",
        "jaffe_path = data_path\n",
        "\n",
        "# Filter for common image file extensions to avoid processing non-image files\n",
        "image_files = [f for f in os.listdir(jaffe_path) if f.endswith(('.tiff'))]\n",
        "\n",
        "# Define a mapping of expression in filename to label\n",
        "emotion_map = {\n",
        "    'NE': 6,  # Neutral\n",
        "    'HA': 3,  # Happy\n",
        "    'SA': 4,  # Sad\n",
        "    'SU': 5,  # Surprise\n",
        "    'AN': 0,  # Angry\n",
        "    'DI': 1,  # Disgust\n",
        "    'FE': 2   # Fear\n",
        "}\n",
        "\n",
        "for file in image_files:\n",
        "    # Get the image path\n",
        "    image_path = os.path.join(jaffe_path, file)\n",
        "\n",
        "    # Read, preprocess (resize, grayscale), and store the image\n",
        "    image = cv2.imread(image_path, cv2.IMREAD_GRAYSCALE)\n",
        "\n",
        "    if image is None:\n",
        "        print(f\"Failed to load {image_path}\")\n",
        "        continue\n",
        "\n",
        "    try:\n",
        "        image = cv2.resize(image, (48, 48), interpolation=cv2.INTER_AREA)\n",
        "        images.append(image)\n",
        "\n",
        "        # Extract emotion from filename and map to respective label\n",
        "        emotion = file[3:5]\n",
        "        labels.append(emotion_map[emotion])\n",
        "\n",
        "    except Exception as e:\n",
        "        print(f\"Error processing file: {image_path}. Error: {str(e)}\")\n",
        "\n",
        "# Convert images and labels to numpy arrays\n",
        "images = np.array(images)\n",
        "labels = np.array(labels)\n",
        "\n",
        "print(f\"Processed {len(images)} images.\")\n"
      ],
      "metadata": {
        "colab": {
          "base_uri": "https://localhost:8080/"
        },
        "id": "eDkuSW_c0GVx",
        "outputId": "86c02d7e-158e-4cbd-9540-2c6c83a22c7d"
      },
      "execution_count": 37,
      "outputs": [
        {
          "output_type": "stream",
          "name": "stdout",
          "text": [
            "Processed 213 images.\n"
          ]
        }
      ]
    },
    {
      "cell_type": "code",
      "source": [
        "labels"
      ],
      "metadata": {
        "colab": {
          "base_uri": "https://localhost:8080/"
        },
        "id": "KrrNVOs11lqa",
        "outputId": "467b6520-0038-420f-8378-4d9131716d99"
      },
      "execution_count": 38,
      "outputs": [
        {
          "output_type": "execute_result",
          "data": {
            "text/plain": [
              "array([6, 0, 5, 5, 3, 5, 4, 6, 5, 0, 3, 0, 3, 4, 6, 1, 2, 5, 2, 4, 1, 5,\n",
              "       5, 5, 2, 2, 3, 0, 0, 3, 4, 3, 0, 4, 1, 2, 4, 6, 6, 5, 0, 5, 1, 2,\n",
              "       4, 4, 3, 0, 4, 0, 5, 3, 2, 6, 4, 4, 5, 6, 2, 2, 0, 3, 3, 2, 2, 4,\n",
              "       4, 2, 1, 6, 3, 6, 1, 4, 2, 0, 6, 5, 1, 1, 2, 2, 6, 6, 1, 0, 1, 2,\n",
              "       2, 6, 3, 0, 2, 1, 4, 6, 3, 0, 1, 5, 4, 0, 2, 6, 4, 3, 5, 0, 3, 2,\n",
              "       2, 3, 6, 0, 6, 4, 1, 6, 0, 6, 5, 6, 4, 5, 5, 3, 1, 2, 3, 6, 6, 2,\n",
              "       3, 4, 2, 3, 6, 3, 0, 4, 1, 1, 1, 5, 2, 6, 5, 5, 1, 5, 0, 4, 6, 5,\n",
              "       6, 2, 3, 3, 1, 1, 0, 1, 3, 4, 4, 0, 0, 2, 6, 6, 6, 2, 4, 5, 4, 2,\n",
              "       1, 0, 5, 2, 1, 3, 6, 4, 5, 4, 2, 2, 1, 1, 5, 4, 1, 4, 0, 3, 0, 0,\n",
              "       4, 5, 1, 0, 5, 3, 3, 5, 0, 1, 3, 0, 3, 3, 1])"
            ]
          },
          "metadata": {},
          "execution_count": 38
        }
      ]
    },
    {
      "cell_type": "code",
      "source": [
        "images"
      ],
      "metadata": {
        "colab": {
          "base_uri": "https://localhost:8080/"
        },
        "id": "ujeKZ5jtUfA0",
        "outputId": "7eb66216-5309-4f01-f523-4c4e99e7268e"
      },
      "execution_count": 39,
      "outputs": [
        {
          "output_type": "execute_result",
          "data": {
            "text/plain": [
              "array([[[156, 156, 155, ..., 168, 169, 167],\n",
              "        [159, 156, 155, ..., 166, 166, 165],\n",
              "        [157, 158, 159, ..., 164, 164, 164],\n",
              "        ...,\n",
              "        [ 95,  94,  91, ..., 139, 142, 142],\n",
              "        [ 95,  94,  89, ..., 125, 132, 139],\n",
              "        [ 93,  92,  88, ..., 118, 117, 121]],\n",
              "\n",
              "       [[170, 174, 180, ..., 204, 204, 209],\n",
              "        [174, 179, 185, ..., 204, 204, 211],\n",
              "        [180, 184, 190, ..., 206, 206, 209],\n",
              "        ...,\n",
              "        [105, 102, 100, ..., 177, 169, 168],\n",
              "        [121, 122, 123, ..., 187, 190, 190],\n",
              "        [163, 167, 173, ..., 201, 203, 205]],\n",
              "\n",
              "       [[151, 156, 155, ..., 168, 173, 169],\n",
              "        [150, 155, 156, ..., 172, 174, 172],\n",
              "        [148, 152, 154, ..., 175, 176, 175],\n",
              "        ...,\n",
              "        [ 91,  89,  90, ..., 134, 143, 145],\n",
              "        [ 91,  90,  87, ..., 115, 128, 136],\n",
              "        [ 91,  89,  88, ..., 113, 116, 118]],\n",
              "\n",
              "       ...,\n",
              "\n",
              "       [[109, 114, 114, ..., 114, 112, 108],\n",
              "        [114, 118, 123, ..., 121, 116, 111],\n",
              "        [118, 123, 128, ..., 123, 119, 113],\n",
              "        ...,\n",
              "        [ 65,  56,  46, ..., 113,  95,  76],\n",
              "        [ 41,  65,  69, ..., 115, 104,  93],\n",
              "        [ 68,  85,  67, ..., 112, 103,  98]],\n",
              "\n",
              "       [[ 72,  72,  80, ..., 169, 148, 146],\n",
              "        [102, 110, 115, ..., 142, 147, 142],\n",
              "        [100, 108, 115, ..., 142, 141, 136],\n",
              "        ...,\n",
              "        [ 67,  62,  49, ..., 136, 116, 100],\n",
              "        [ 46,  40,  37, ..., 138, 133, 120],\n",
              "        [ 35,  43,  57, ..., 145, 142, 137]],\n",
              "\n",
              "       [[154, 155, 160, ..., 175, 174, 175],\n",
              "        [154, 157, 161, ..., 175, 174, 178],\n",
              "        [156, 160, 164, ..., 179, 178, 182],\n",
              "        ...,\n",
              "        [ 93,  90,  88, ..., 121, 132, 142],\n",
              "        [ 94,  90,  91, ..., 133, 124, 128],\n",
              "        [ 97,  93,  88, ..., 153, 141, 124]]], dtype=uint8)"
            ]
          },
          "metadata": {},
          "execution_count": 39
        }
      ]
    },
    {
      "cell_type": "code",
      "source": [
        "flattened_images = [img.flatten() for img in images]\n",
        "\n",
        "df = pd.DataFrame({\n",
        "    'emotion': labels,\n",
        "    'Image': flattened_images\n",
        "})"
      ],
      "metadata": {
        "id": "yfI1gep2UW7J"
      },
      "execution_count": 40,
      "outputs": []
    },
    {
      "cell_type": "code",
      "source": [
        "emotions= {0:'angry', 1:'disgust', 2:'fear',3:'happy',4:'sad',5:'surprise',6:'neutral'}\n"
      ],
      "metadata": {
        "id": "2l4KjN7oVmYA"
      },
      "execution_count": 41,
      "outputs": []
    },
    {
      "cell_type": "code",
      "source": [
        "! rm -rf train_jaffe\n",
        "! mkdir train_jaffe"
      ],
      "metadata": {
        "id": "WCmT01UVYFtX"
      },
      "execution_count": 42,
      "outputs": []
    },
    {
      "cell_type": "code",
      "source": [
        "root = \"train_jaffe\"\n",
        "\n",
        "# Create the root directory if it doesn't exist\n",
        "if not os.path.exists(root):\n",
        "    os.mkdir(root)\n",
        "\n",
        "for emotion in emotions:\n",
        "    # Create path string\n",
        "    dir_path = os.path.join(root, f\"{emotion} {emotions[emotion]}\")\n",
        "\n",
        "    # Create the directory\n",
        "    if not os.path.exists(dir_path):  # Check if directory already exists\n",
        "        os.mkdir(dir_path)"
      ],
      "metadata": {
        "id": "qETIH8u8YPJ0"
      },
      "execution_count": 43,
      "outputs": []
    },
    {
      "cell_type": "code",
      "source": [
        "!ls -l train_jaffe"
      ],
      "metadata": {
        "colab": {
          "base_uri": "https://localhost:8080/"
        },
        "id": "6U55HfdWYrpA",
        "outputId": "5279fc43-e647-4a03-fe42-1a930d058381"
      },
      "execution_count": 44,
      "outputs": [
        {
          "output_type": "stream",
          "name": "stdout",
          "text": [
            "total 28\n",
            "drwxr-xr-x 2 root root 4096 Oct 22 17:23 '0 angry'\n",
            "drwxr-xr-x 2 root root 4096 Oct 22 17:23 '1 disgust'\n",
            "drwxr-xr-x 2 root root 4096 Oct 22 17:23 '2 fear'\n",
            "drwxr-xr-x 2 root root 4096 Oct 22 17:23 '3 happy'\n",
            "drwxr-xr-x 2 root root 4096 Oct 22 17:23 '4 sad'\n",
            "drwxr-xr-x 2 root root 4096 Oct 22 17:23 '5 surprise'\n",
            "drwxr-xr-x 2 root root 4096 Oct 22 17:23 '6 neutral'\n"
          ]
        }
      ]
    },
    {
      "cell_type": "code",
      "source": [
        "df['Image']"
      ],
      "metadata": {
        "colab": {
          "base_uri": "https://localhost:8080/"
        },
        "id": "z5px7MchZgSg",
        "outputId": "96c8bb28-9e24-458b-887c-dfcf7b431518"
      },
      "execution_count": 45,
      "outputs": [
        {
          "output_type": "execute_result",
          "data": {
            "text/plain": [
              "0      [156, 156, 155, 160, 162, 164, 166, 166, 167, ...\n",
              "1      [170, 174, 180, 185, 187, 187, 191, 195, 194, ...\n",
              "2      [151, 156, 155, 157, 157, 159, 166, 167, 169, ...\n",
              "3      [66, 70, 77, 82, 94, 107, 111, 109, 124, 138, ...\n",
              "4      [153, 154, 160, 163, 167, 173, 179, 182, 187, ...\n",
              "                             ...                        \n",
              "208    [147, 147, 151, 152, 157, 161, 162, 167, 166, ...\n",
              "209    [127, 132, 137, 141, 139, 140, 138, 138, 140, ...\n",
              "210    [109, 114, 114, 122, 126, 131, 135, 135, 138, ...\n",
              "211    [72, 72, 80, 112, 128, 133, 128, 129, 141, 150...\n",
              "212    [154, 155, 160, 164, 167, 167, 168, 174, 177, ...\n",
              "Name: Image, Length: 213, dtype: object"
            ]
          },
          "metadata": {},
          "execution_count": 45
        }
      ]
    },
    {
      "cell_type": "code",
      "source": [
        "count = 0\n",
        "for emotion, image_pixels in zip(df['emotion'], df['Image']):\n",
        "    image_data = np.asarray(image_pixels, dtype=np.uint8).reshape(48,48)\n",
        "    img = Image.fromarray(image_data)\n",
        "    count_string = str(count).zfill(4)\n",
        "\n",
        "    path = 'train_jaffe/'\n",
        "\n",
        "   #train/2 fear/fear-000001.png\n",
        "    img.save(path + f'{emotion} ' + f'{emotions[emotion]}/' + f'{emotions[emotion]}-{count_string}.png')\n",
        "    count += 1"
      ],
      "metadata": {
        "id": "h7jp58nmYxIF"
      },
      "execution_count": 47,
      "outputs": []
    },
    {
      "cell_type": "code",
      "source": [
        "%%bash\n",
        "root='train_jaffe/'\n",
        "IFS=$(echo -en \"\\n\\b\")\n",
        "(for dir in $(ls -1 \"$root\")\n",
        "    do printf \"$dir: \" && ls -i \"$root$dir\" | wc -l\n",
        " done)"
      ],
      "metadata": {
        "colab": {
          "base_uri": "https://localhost:8080/"
        },
        "id": "0Mo59NKYapeZ",
        "outputId": "7bb99e1b-533b-4919-ead6-4012cdc83e15"
      },
      "execution_count": 49,
      "outputs": [
        {
          "output_type": "stream",
          "name": "stdout",
          "text": [
            "0 angry: 30\n",
            "1 disgust: 29\n",
            "2 fear: 32\n",
            "3 happy: 31\n",
            "4 sad: 31\n",
            "5 surprise: 30\n",
            "6 neutral: 30\n"
          ]
        }
      ]
    },
    {
      "cell_type": "code",
      "source": [
        "%%bash\n",
        "(for dir in train_jaffe\n",
        "      do pushd $dir && zip -r $dir.zip * && popd\n",
        "    done)"
      ],
      "metadata": {
        "colab": {
          "base_uri": "https://localhost:8080/"
        },
        "id": "71NPPuazbSv5",
        "outputId": "56d65d0e-6ee1-4072-c747-b49031e5bfc3"
      },
      "execution_count": 50,
      "outputs": [
        {
          "output_type": "stream",
          "name": "stdout",
          "text": [
            "/content/train_jaffe /content\n",
            "  adding: 0 angry/ (stored 0%)\n",
            "  adding: 0 angry/angry-0009.png (stored 0%)\n",
            "  adding: 0 angry/angry-0040.png (stored 0%)\n",
            "  adding: 0 angry/angry-0138.png (stored 0%)\n",
            "  adding: 0 angry/angry-0060.png (stored 0%)\n",
            "  adding: 0 angry/angry-0097.png (stored 0%)\n",
            "  adding: 0 angry/angry-0196.png (stored 0%)\n",
            "  adding: 0 angry/angry-0166.png (stored 0%)\n",
            "  adding: 0 angry/angry-0047.png (stored 0%)\n",
            "  adding: 0 angry/angry-0032.png (stored 0%)\n",
            "  adding: 0 angry/angry-0085.png (stored 0%)\n",
            "  adding: 0 angry/angry-0101.png (stored 0%)\n",
            "  adding: 0 angry/angry-0027.png (stored 0%)\n",
            "  adding: 0 angry/angry-0165.png (stored 0%)\n",
            "  adding: 0 angry/angry-0028.png (stored 0%)\n",
            "  adding: 0 angry/angry-0201.png (stored 0%)\n",
            "  adding: 0 angry/angry-0197.png (stored 0%)\n",
            "  adding: 0 angry/angry-0113.png (stored 0%)\n",
            "  adding: 0 angry/angry-0107.png (stored 0%)\n",
            "  adding: 0 angry/angry-0049.png (stored 0%)\n",
            "  adding: 0 angry/angry-0160.png (stored 0%)\n",
            "  adding: 0 angry/angry-0150.png (stored 0%)\n",
            "  adding: 0 angry/angry-0075.png (stored 0%)\n",
            "  adding: 0 angry/angry-0118.png (stored 0%)\n",
            "  adding: 0 angry/angry-0177.png (stored 0%)\n",
            "  adding: 0 angry/angry-0091.png (stored 0%)\n",
            "  adding: 0 angry/angry-0194.png (stored 0%)\n",
            "  adding: 0 angry/angry-0001.png (stored 0%)\n",
            "  adding: 0 angry/angry-0011.png (stored 0%)\n",
            "  adding: 0 angry/angry-0206.png (stored 0%)\n",
            "  adding: 0 angry/angry-0209.png (stored 0%)\n",
            "  adding: 1 disgust/ (stored 0%)\n",
            "  adding: 1 disgust/disgust-0161.png (stored 0%)\n",
            "  adding: 1 disgust/disgust-0086.png (stored 0%)\n",
            "  adding: 1 disgust/disgust-0207.png (stored 0%)\n",
            "  adding: 1 disgust/disgust-0188.png (stored 0%)\n",
            "  adding: 1 disgust/disgust-0078.png (stored 0%)\n",
            "  adding: 1 disgust/disgust-0192.png (stored 0%)\n",
            "  adding: 1 disgust/disgust-0015.png (stored 0%)\n",
            "  adding: 1 disgust/disgust-0212.png (stored 0%)\n",
            "  adding: 1 disgust/disgust-0079.png (stored 0%)\n",
            "  adding: 1 disgust/disgust-0159.png (stored 0%)\n",
            "  adding: 1 disgust/disgust-0068.png (stored 0%)\n",
            "  adding: 1 disgust/disgust-0098.png (stored 0%)\n",
            "  adding: 1 disgust/disgust-0148.png (stored 0%)\n",
            "  adding: 1 disgust/disgust-0042.png (stored 0%)\n",
            "  adding: 1 disgust/disgust-0180.png (stored 0%)\n",
            "  adding: 1 disgust/disgust-0034.png (stored 0%)\n",
            "  adding: 1 disgust/disgust-0189.png (stored 0%)\n",
            "  adding: 1 disgust/disgust-0200.png (stored 0%)\n",
            "  adding: 1 disgust/disgust-0176.png (stored 0%)\n",
            "  adding: 1 disgust/disgust-0116.png (stored 0%)\n",
            "  adding: 1 disgust/disgust-0142.png (stored 0%)\n",
            "  adding: 1 disgust/disgust-0141.png (stored 0%)\n",
            "  adding: 1 disgust/disgust-0126.png (stored 0%)\n",
            "  adding: 1 disgust/disgust-0072.png (stored 0%)\n",
            "  adding: 1 disgust/disgust-0093.png (stored 0%)\n",
            "  adding: 1 disgust/disgust-0084.png (stored 0%)\n",
            "  adding: 1 disgust/disgust-0140.png (stored 0%)\n",
            "  adding: 1 disgust/disgust-0020.png (stored 0%)\n",
            "  adding: 1 disgust/disgust-0158.png (stored 0%)\n",
            "  adding: 2 fear/ (stored 0%)\n",
            "  adding: 2 fear/fear-0092.png (stored 0%)\n",
            "  adding: 2 fear/fear-0134.png (stored 0%)\n",
            "  adding: 2 fear/fear-0024.png (stored 0%)\n",
            "  adding: 2 fear/fear-0087.png (stored 0%)\n",
            "  adding: 2 fear/fear-0081.png (stored 0%)\n",
            "  adding: 2 fear/fear-0155.png (stored 0%)\n",
            "  adding: 2 fear/fear-0074.png (stored 0%)\n",
            "  adding: 2 fear/fear-0025.png (stored 0%)\n",
            "  adding: 2 fear/fear-0063.png (stored 0%)\n",
            "  adding: 2 fear/fear-0144.png (stored 0%)\n",
            "  adding: 2 fear/fear-0127.png (stored 0%)\n",
            "  adding: 2 fear/fear-0102.png (stored 0%)\n",
            "  adding: 2 fear/fear-0059.png (stored 0%)\n",
            "  adding: 2 fear/fear-0052.png (stored 0%)\n",
            "  adding: 2 fear/fear-0175.png (stored 0%)\n",
            "  adding: 2 fear/fear-0110.png (stored 0%)\n",
            "  adding: 2 fear/fear-0187.png (stored 0%)\n",
            "  adding: 2 fear/fear-0058.png (stored 0%)\n",
            "  adding: 2 fear/fear-0018.png (stored 0%)\n",
            "  adding: 2 fear/fear-0043.png (stored 0%)\n",
            "  adding: 2 fear/fear-0171.png (stored 0%)\n",
            "  adding: 2 fear/fear-0179.png (stored 0%)\n",
            "  adding: 2 fear/fear-0131.png (stored 0%)\n",
            "  adding: 2 fear/fear-0186.png (stored 0%)\n",
            "  adding: 2 fear/fear-0067.png (stored 0%)\n",
            "  adding: 2 fear/fear-0088.png (stored 0%)\n",
            "  adding: 2 fear/fear-0109.png (stored 0%)\n",
            "  adding: 2 fear/fear-0080.png (stored 0%)\n",
            "  adding: 2 fear/fear-0035.png (stored 0%)\n",
            "  adding: 2 fear/fear-0016.png (stored 0%)\n",
            "  adding: 2 fear/fear-0064.png (stored 0%)\n",
            "  adding: 2 fear/fear-0167.png (stored 0%)\n",
            "  adding: 3 happy/ (stored 0%)\n",
            "  adding: 3 happy/happy-0010.png (stored 0%)\n",
            "  adding: 3 happy/happy-0062.png (stored 0%)\n",
            "  adding: 3 happy/happy-0070.png (stored 0%)\n",
            "  adding: 3 happy/happy-0157.png (stored 0%)\n",
            "  adding: 3 happy/happy-0210.png (stored 0%)\n",
            "  adding: 3 happy/happy-0156.png (stored 0%)\n",
            "  adding: 3 happy/happy-0111.png (stored 0%)\n",
            "  adding: 3 happy/happy-0162.png (stored 0%)\n",
            "  adding: 3 happy/happy-0105.png (stored 0%)\n",
            "  adding: 3 happy/happy-0031.png (stored 0%)\n",
            "  adding: 3 happy/happy-0125.png (stored 0%)\n",
            "  adding: 3 happy/happy-0051.png (stored 0%)\n",
            "  adding: 3 happy/happy-0135.png (stored 0%)\n",
            "  adding: 3 happy/happy-0137.png (stored 0%)\n",
            "  adding: 3 happy/happy-0061.png (stored 0%)\n",
            "  adding: 3 happy/happy-0029.png (stored 0%)\n",
            "  adding: 3 happy/happy-0204.png (stored 0%)\n",
            "  adding: 3 happy/happy-0211.png (stored 0%)\n",
            "  adding: 3 happy/happy-0046.png (stored 0%)\n",
            "  adding: 3 happy/happy-0181.png (stored 0%)\n",
            "  adding: 3 happy/happy-0012.png (stored 0%)\n",
            "  adding: 3 happy/happy-0208.png (stored 0%)\n",
            "  adding: 3 happy/happy-0108.png (stored 0%)\n",
            "  adding: 3 happy/happy-0026.png (stored 0%)\n",
            "  adding: 3 happy/happy-0132.png (stored 0%)\n",
            "  adding: 3 happy/happy-0090.png (stored 0%)\n",
            "  adding: 3 happy/happy-0004.png (stored 0%)\n",
            "  adding: 3 happy/happy-0128.png (stored 0%)\n",
            "  adding: 3 happy/happy-0203.png (stored 0%)\n",
            "  adding: 3 happy/happy-0096.png (stored 0%)\n",
            "  adding: 3 happy/happy-0195.png (stored 0%)\n",
            "  adding: 4 sad/ (stored 0%)\n",
            "  adding: 4 sad/sad-0164.png (stored 0%)\n",
            "  adding: 4 sad/sad-0054.png (stored 0%)\n",
            "  adding: 4 sad/sad-0133.png (stored 0%)\n",
            "  adding: 4 sad/sad-0163.png (stored 0%)\n",
            "  adding: 4 sad/sad-0019.png (stored 0%)\n",
            "  adding: 4 sad/sad-0185.png (stored 0%)\n",
            "  adding: 4 sad/sad-0045.png (stored 0%)\n",
            "  adding: 4 sad/sad-0151.png (stored 0%)\n",
            "  adding: 4 sad/sad-0036.png (stored 0%)\n",
            "  adding: 4 sad/sad-0013.png (stored 0%)\n",
            "  adding: 4 sad/sad-0065.png (stored 0%)\n",
            "  adding: 4 sad/sad-0139.png (stored 0%)\n",
            "  adding: 4 sad/sad-0172.png (stored 0%)\n",
            "  adding: 4 sad/sad-0033.png (stored 0%)\n",
            "  adding: 4 sad/sad-0055.png (stored 0%)\n",
            "  adding: 4 sad/sad-0006.png (stored 0%)\n",
            "  adding: 4 sad/sad-0104.png (stored 0%)\n",
            "  adding: 4 sad/sad-0198.png (stored 0%)\n",
            "  adding: 4 sad/sad-0094.png (stored 0%)\n",
            "  adding: 4 sad/sad-0191.png (stored 0%)\n",
            "  adding: 4 sad/sad-0030.png (stored 0%)\n",
            "  adding: 4 sad/sad-0073.png (stored 0%)\n",
            "  adding: 4 sad/sad-0048.png (stored 0%)\n",
            "  adding: 4 sad/sad-0044.png (stored 0%)\n",
            "  adding: 4 sad/sad-0193.png (stored 0%)\n",
            "  adding: 4 sad/sad-0122.png (stored 0%)\n",
            "  adding: 4 sad/sad-0183.png (stored 0%)\n",
            "  adding: 4 sad/sad-0066.png (stored 0%)\n",
            "  adding: 4 sad/sad-0115.png (stored 0%)\n",
            "  adding: 4 sad/sad-0100.png (stored 0%)\n",
            "  adding: 4 sad/sad-0174.png (stored 0%)\n",
            "  adding: 5 surprise/ (stored 0%)\n",
            "  adding: 5 surprise/surprise-0190.png (stored 0%)\n",
            "  adding: 5 surprise/surprise-0202.png (stored 0%)\n",
            "  adding: 5 surprise/surprise-0023.png (stored 0%)\n",
            "  adding: 5 surprise/surprise-0008.png (stored 0%)\n",
            "  adding: 5 surprise/surprise-0143.png (stored 0%)\n",
            "  adding: 5 surprise/surprise-0149.png (stored 0%)\n",
            "  adding: 5 surprise/surprise-0022.png (stored 0%)\n",
            "  adding: 5 surprise/surprise-0021.png (stored 0%)\n",
            "  adding: 5 surprise/surprise-0002.png (stored 0%)\n",
            "  adding: 5 surprise/surprise-0106.png (stored 0%)\n",
            "  adding: 5 surprise/surprise-0178.png (stored 0%)\n",
            "  adding: 5 surprise/surprise-0147.png (stored 0%)\n",
            "  adding: 5 surprise/surprise-0199.png (stored 0%)\n",
            "  adding: 5 surprise/surprise-0123.png (stored 0%)\n",
            "  adding: 5 surprise/surprise-0050.png (stored 0%)\n",
            "  adding: 5 surprise/surprise-0184.png (stored 0%)\n",
            "  adding: 5 surprise/surprise-0099.png (stored 0%)\n",
            "  adding: 5 surprise/surprise-0146.png (stored 0%)\n",
            "  adding: 5 surprise/surprise-0003.png (stored 0%)\n",
            "  adding: 5 surprise/surprise-0205.png (stored 0%)\n",
            "  adding: 5 surprise/surprise-0005.png (stored 0%)\n",
            "  adding: 5 surprise/surprise-0153.png (stored 0%)\n",
            "  adding: 5 surprise/surprise-0041.png (stored 0%)\n",
            "  adding: 5 surprise/surprise-0017.png (stored 0%)\n",
            "  adding: 5 surprise/surprise-0077.png (stored 0%)\n",
            "  adding: 5 surprise/surprise-0124.png (stored 0%)\n",
            "  adding: 5 surprise/surprise-0039.png (stored 0%)\n",
            "  adding: 5 surprise/surprise-0173.png (stored 0%)\n",
            "  adding: 5 surprise/surprise-0120.png (stored 0%)\n",
            "  adding: 5 surprise/surprise-0056.png (stored 0%)\n",
            "  adding: 6 neutral/ (stored 0%)\n",
            "  adding: 6 neutral/neutral-0007.png (stored 0%)\n",
            "  adding: 6 neutral/neutral-0071.png (stored 0%)\n",
            "  adding: 6 neutral/neutral-0069.png (stored 0%)\n",
            "  adding: 6 neutral/neutral-0168.png (stored 0%)\n",
            "  adding: 6 neutral/neutral-0082.png (stored 0%)\n",
            "  adding: 6 neutral/neutral-0154.png (stored 0%)\n",
            "  adding: 6 neutral/neutral-0014.png (stored 0%)\n",
            "  adding: 6 neutral/neutral-0182.png (stored 0%)\n",
            "  adding: 6 neutral/neutral-0121.png (stored 0%)\n",
            "  adding: 6 neutral/neutral-0089.png (stored 0%)\n",
            "  adding: 6 neutral/neutral-0083.png (stored 0%)\n",
            "  adding: 6 neutral/neutral-0145.png (stored 0%)\n",
            "  adding: 6 neutral/neutral-0117.png (stored 0%)\n",
            "  adding: 6 neutral/neutral-0053.png (stored 0%)\n",
            "  adding: 6 neutral/neutral-0037.png (stored 0%)\n",
            "  adding: 6 neutral/neutral-0000.png (stored 0%)\n",
            "  adding: 6 neutral/neutral-0114.png (stored 0%)\n",
            "  adding: 6 neutral/neutral-0170.png (stored 0%)\n",
            "  adding: 6 neutral/neutral-0119.png (stored 0%)\n",
            "  adding: 6 neutral/neutral-0057.png (stored 0%)\n",
            "  adding: 6 neutral/neutral-0129.png (stored 0%)\n",
            "  adding: 6 neutral/neutral-0136.png (stored 0%)\n",
            "  adding: 6 neutral/neutral-0095.png (stored 0%)\n",
            "  adding: 6 neutral/neutral-0152.png (stored 0%)\n",
            "  adding: 6 neutral/neutral-0130.png (stored 0%)\n",
            "  adding: 6 neutral/neutral-0169.png (stored 0%)\n",
            "  adding: 6 neutral/neutral-0103.png (stored 0%)\n",
            "  adding: 6 neutral/neutral-0076.png (stored 0%)\n",
            "  adding: 6 neutral/neutral-0038.png (stored 0%)\n",
            "  adding: 6 neutral/neutral-0112.png (stored 0%)\n",
            "/content\n"
          ]
        }
      ]
    },
    {
      "cell_type": "code",
      "source": [
        "!ls '/content/train_jaffe/train_jaffe.zip'\n",
        "! cp /content/train_jaffe/train_jaffe.zip '/content/drive/MyDrive/CSE499A/Datasets'"
      ],
      "metadata": {
        "colab": {
          "base_uri": "https://localhost:8080/"
        },
        "id": "GZushjRfbY0i",
        "outputId": "b7c1fbba-03fd-494d-c136-17e9659550a1"
      },
      "execution_count": 51,
      "outputs": [
        {
          "output_type": "stream",
          "name": "stdout",
          "text": [
            "/content/train_jaffe/train_jaffe.zip\n"
          ]
        }
      ]
    }
  ]
}